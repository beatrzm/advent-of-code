{
 "cells": [
  {
   "cell_type": "code",
   "execution_count": 106,
   "metadata": {},
   "outputs": [],
   "source": [
    "import pandas as pd\n",
    "import numpy as np"
   ]
  },
  {
   "cell_type": "code",
   "execution_count": 220,
   "metadata": {},
   "outputs": [],
   "source": [
    "with open('input.txt') as f:\n",
    "    data = f.readlines()\n",
    "    inp = []\n",
    "    for line in data:\n",
    "        inp = inp + [line.strip()]\n",
    "\n",
    "#print(inp)"
   ]
  },
  {
   "cell_type": "code",
   "execution_count": 221,
   "metadata": {},
   "outputs": [],
   "source": [
    "with open('testinput.txt') as f:\n",
    "    data = f.readlines()\n",
    "    testdata = []\n",
    "    for line in data:\n",
    "        testdata = testdata + [line.strip()]\n",
    "\n",
    "#print(testdata)"
   ]
  },
  {
   "cell_type": "code",
   "execution_count": 222,
   "metadata": {},
   "outputs": [],
   "source": [
    "with open('testinput2.txt') as f:\n",
    "    data = f.readlines()\n",
    "    testdata2 = []\n",
    "    for line in data:\n",
    "        testdata2 = testdata2 + [line.strip()]\n",
    "\n",
    "#print(testdata2)"
   ]
  },
  {
   "cell_type": "code",
   "execution_count": 223,
   "metadata": {},
   "outputs": [],
   "source": [
    "inp = [x.replace('', ' ') for x in inp]\n",
    "#print(inp)\n",
    "df = pd.DataFrame([x.split() for x in inp])\n",
    "#print(df)"
   ]
  },
  {
   "cell_type": "code",
   "execution_count": 111,
   "metadata": {},
   "outputs": [
    {
     "name": "stdout",
     "output_type": "stream",
     "text": [
      "   0  1  2  3  4  5  6  7  8  9  10 11 12\n",
      "0   1  2  .  .  .  .  .  .  .  *  .  .  .\n",
      "1   +  .  .  .  .  .  .  .  .  .  3  4  .\n",
      "2   .  .  .  .  .  .  .  -  1  2  .  .  .\n",
      "3   .  .  7  8  .  .  .  .  .  .  .  .  .\n",
      "4   .  .  *  .  .  .  .  6  0  .  .  .  .\n",
      "5   7  8  .  .  .  .  .  .  .  .  .  9  .\n",
      "6   .  5  .  .  .  .  .  2  3  .  .  $  .\n",
      "7   8  .  .  .  9  0  *  1  2  .  .  .  .\n",
      "8   .  .  .  .  .  .  .  .  .  .  .  .  .\n",
      "9   2  .  2  .  .  .  .  .  .  1  2  .  .\n",
      "10  .  *  .  .  .  .  .  .  .  .  .  *  .\n",
      "11  1  .  1  .  .  5  0  3  +  .  5  6  .\n"
     ]
    }
   ],
   "source": [
    "testinp2 = [x.replace('', ' ') for x in testdata2]\n",
    "\n",
    "testdf2 = pd.DataFrame([x.split() for x in testinp2])\n",
    "\n",
    "testdf2[len(testdf2.columns)] = '.'\n",
    "\n"
   ]
  },
  {
   "cell_type": "code",
   "execution_count": 112,
   "metadata": {},
   "outputs": [],
   "source": [
    "testinp = [x.replace('', ' ') for x in testdata]\n",
    "\n",
    "testdf = pd.DataFrame([x.split() for x in testinp])\n"
   ]
  },
  {
   "cell_type": "code",
   "execution_count": 113,
   "metadata": {},
   "outputs": [],
   "source": [
    "def adj(df, row,col):\n",
    "    adj = []\n",
    "    for i in range(row-1, row+2):\n",
    "        for j in range(col-1, col+2):\n",
    "            if (i >= 0 and j >= 0) and (i < len(df) and j < len(df.columns)):\n",
    "                if (i != row or j != col):\n",
    "                    adj.append(df.iloc[i,j])\n",
    "    return adj\n",
    "\n",
    "def getnumber3(df, row, col):\n",
    "    #print(row, col)\n",
    "    nb = 0\n",
    "    if not df.iloc[row,col+1].isdigit() and not df.iloc[row,col-1].isdigit():\n",
    "        nb = int(df.iloc[row,col])\n",
    "    elif df.iloc[row,col+1].isdigit() and not df.iloc[row,col-1].isdigit() and not df.iloc[row,col+2].isdigit():\n",
    "        nb = int(str(df.iloc[row,col]) + str(df.iloc[row,col+1]))\n",
    "    elif not df.iloc[row,col+1].isdigit() and df.iloc[row,col-1].isdigit() and not df.iloc[row,col-2].isdigit():\n",
    "        nb = int(str(df.iloc[row,col-1]) + str(df.iloc[row,col]))\n",
    "    elif df.iloc[row,col+1].isdigit() and df.iloc[row,col-1].isdigit():\n",
    "        nb = int(str(df.iloc[row,col-1]) + str(df.iloc[row,col]) + str(df.iloc[row,col+1]))\n",
    "    elif df.iloc[row,col+2].isdigit() and df.iloc[row,col+1].isdigit():\n",
    "        nb = int(str(df.iloc[row,col]) + str(df.iloc[row,col+1]) + str(df.iloc[row,col+2]))\n",
    "    elif df.iloc[row,col-1].isdigit() and df.iloc[row,col-2].isdigit():\n",
    "        nb = int(str(df.iloc[row,col-2]) + str(df.iloc[row,col-1]) + str(df.iloc[row,col]))\n",
    "    return nb\n",
    "        "
   ]
  },
  {
   "cell_type": "code",
   "execution_count": 117,
   "metadata": {},
   "outputs": [
    {
     "name": "stdout",
     "output_type": "stream",
     "text": [
      "Occurrences in the entire DataFrame:\n",
      ".    15364\n",
      "8      384\n",
      "1      370\n",
      "5      367\n",
      "9      360\n",
      "6      358\n",
      "3      356\n",
      "*      356\n",
      "4      351\n",
      "7      348\n",
      "2      344\n",
      "0      239\n",
      "+       51\n",
      "-       49\n",
      "/       47\n",
      "&       47\n",
      "#       44\n",
      "$       43\n",
      "%       43\n",
      "=       42\n",
      "@       37\n",
      "Name: count, dtype: int64\n"
     ]
    }
   ],
   "source": [
    "count_all = df.stack().value_counts()\n",
    "\n",
    "print(\"Occurrences in the entire DataFrame:\")\n",
    "print(count_all)"
   ]
  },
  {
   "cell_type": "code",
   "execution_count": 118,
   "metadata": {},
   "outputs": [
    {
     "name": "stdout",
     "output_type": "stream",
     "text": [
      "10\n"
     ]
    }
   ],
   "source": [
    "symbols = ['+', '-', '*', '/', '&','#','$','%','=','@']\n",
    "print(len(symbols))"
   ]
  },
  {
   "cell_type": "code",
   "execution_count": 119,
   "metadata": {},
   "outputs": [],
   "source": [
    "def summedparts(df):\n",
    "    parts = [0]\n",
    "    sum = 0\n",
    "    lasti = 0\n",
    "    for i in range(len(df)):\n",
    "        for j in range(len(df.columns)-1):\n",
    "            #print(i,j)\n",
    "            adjs = []\n",
    "            if df.iloc[i,j].isdigit():\n",
    "                adjs = adj(df, i, j)\n",
    "                for symbol in symbols:\n",
    "                    if symbol in adjs and parts[-1]!=[i,getnumber3(df, i, j)]:\n",
    "                        parts.append([i,getnumber3(df, i, j)])\n",
    "                        sum = sum + getnumber3(df, i, j)\n",
    "    return sum\n",
    "                "
   ]
  },
  {
   "cell_type": "code",
   "execution_count": 120,
   "metadata": {},
   "outputs": [
    {
     "name": "stdout",
     "output_type": "stream",
     "text": [
      "922\n"
     ]
    }
   ],
   "source": [
    "testoutput2 = summedparts(testdf2)\n",
    "print(testoutput2)"
   ]
  },
  {
   "cell_type": "code",
   "execution_count": 121,
   "metadata": {},
   "outputs": [
    {
     "name": "stdout",
     "output_type": "stream",
     "text": [
      "4361\n"
     ]
    }
   ],
   "source": [
    "testoutput = summedparts(testdf)\n",
    "print(testoutput)"
   ]
  },
  {
   "cell_type": "code",
   "execution_count": 105,
   "metadata": {},
   "outputs": [
    {
     "name": "stdout",
     "output_type": "stream",
     "text": [
      "539433\n"
     ]
    }
   ],
   "source": [
    "output = summedparts(df)\n",
    "print(output)"
   ]
  },
  {
   "cell_type": "markdown",
   "metadata": {},
   "source": [
    "### Part 2"
   ]
  },
  {
   "cell_type": "code",
   "execution_count": 212,
   "metadata": {},
   "outputs": [],
   "source": [
    "def adj2(df, row,col):\n",
    "    adj = []\n",
    "    for i in range(row-1, row+2):\n",
    "        for j in range(col-1, col+2):\n",
    "            if (i >= 0 and j >= 0) and (i < len(df) and j < len(df.columns)):\n",
    "                if (i != row or j != col):\n",
    "                    adj.append([i,j, df.iloc[i,j]])\n",
    "    return adj\n",
    "\n",
    "def adjsnbs(lst,frame):\n",
    "    nbs = []\n",
    "    for x in lst:\n",
    "        if x[2].isdigit() and len(str(getnumber3(frame, x[0], x[1])))==1:\n",
    "            nbs = nbs + [[x[0],getnumber3(frame, x[0], x[1])]]\n",
    "        elif x[2].isdigit() and [x[0],getnumber3(frame, x[0], x[1])] not in nbs:\n",
    "            nbs = nbs + [[x[0],getnumber3(frame,x[0], x[1])]]\n",
    "    return nbs\n",
    "\n",
    "def gears(df):\n",
    "    gearsratio = 0\n",
    "    for i in range(len(df)):\n",
    "        for j in range(len(df.columns)):\n",
    "            adjsgear = []\n",
    "            isgear = []\n",
    "            if df.iloc[i,j] == '*':\n",
    "                adjsgear = adj2(df, i, j)\n",
    "                isgear = adjsnbs(adjsgear, df)\n",
    "                if len(isgear) == 2:\n",
    "                    #print(i,j)\n",
    "                    #print(isgear)\n",
    "                    gearsratio = gearsratio + isgear[0][1]*isgear[1][1]\n",
    "    return gearsratio"
   ]
  },
  {
   "cell_type": "code",
   "execution_count": 213,
   "metadata": {},
   "outputs": [
    {
     "name": "stdout",
     "output_type": "stream",
     "text": [
      "6756\n"
     ]
    }
   ],
   "source": [
    "testg = gears(testdf2)\n",
    "print(testg)"
   ]
  },
  {
   "cell_type": "code",
   "execution_count": 214,
   "metadata": {},
   "outputs": [
    {
     "name": "stdout",
     "output_type": "stream",
     "text": [
      "75847567\n"
     ]
    }
   ],
   "source": [
    "testgearsoutput = gears(df)\n",
    "print(testgearsoutput)"
   ]
  }
 ],
 "metadata": {
  "kernelspec": {
   "display_name": "aocenv",
   "language": "python",
   "name": "python3"
  },
  "language_info": {
   "codemirror_mode": {
    "name": "ipython",
    "version": 3
   },
   "file_extension": ".py",
   "mimetype": "text/x-python",
   "name": "python",
   "nbconvert_exporter": "python",
   "pygments_lexer": "ipython3",
   "version": "3.11.2"
  }
 },
 "nbformat": 4,
 "nbformat_minor": 2
}
