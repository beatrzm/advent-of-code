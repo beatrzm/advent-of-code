{
 "cells": [
  {
   "cell_type": "code",
   "execution_count": null,
   "metadata": {},
   "outputs": [],
   "source": [
    "import numpy as np"
   ]
  },
  {
   "cell_type": "code",
   "execution_count": null,
   "metadata": {},
   "outputs": [],
   "source": [
    "with open('input.txt') as f:\n",
    "    data = f.readlines()\n",
    "    inp = []\n",
    "    for line in data:\n",
    "        inp = inp + [line.strip()]\n",
    "print(inp)"
   ]
  },
  {
   "cell_type": "code",
   "execution_count": null,
   "metadata": {},
   "outputs": [],
   "source": [
    "with open('testinput.txt') as f:\n",
    "    datatest = f.readlines()\n",
    "    inptest = []\n",
    "    for line in datatest:\n",
    "        inptest = inptest + [line.strip()]\n",
    "print(inptest)"
   ]
  },
  {
   "cell_type": "code",
   "execution_count": null,
   "metadata": {},
   "outputs": [],
   "source": [
    "# split by each element by \": \"\n",
    "\n",
    "cards = [x.split(\": \")[1].split(\" | \") for x in inp]\n",
    "#print(cards)\n",
    "\n",
    "# split each card by \" \"\n",
    "\n",
    "cards = [[x.split(\" \") for x in y] for y in cards]\n",
    "#print(cards)\n",
    "\n",
    "# remove ''\n",
    "\n",
    "cards = [[[x for x in y if x != ''] for y in z] for z in cards]\n",
    "#print(cards)\n",
    "\n",
    "\n",
    "# convert to int\n",
    "\n",
    "cards = [[[int(x) for x in y] for y in z] for z in cards]\n",
    "#print(cards)\n"
   ]
  },
  {
   "cell_type": "code",
   "execution_count": null,
   "metadata": {},
   "outputs": [],
   "source": [
    "def sets(lst):\n",
    "    points = 0\n",
    "    for i in range(len(lst)):\n",
    "        matches = [x for x in lst[i][0] if x in lst[i][1]]\n",
    "        #print(matches)\n",
    "        if len(matches) !=0:\n",
    "            #print(thispoint)\n",
    "            points = points + (2**(len(matches)-1))\n",
    "    return points\n",
    "    "
   ]
  },
  {
   "cell_type": "code",
   "execution_count": null,
   "metadata": {},
   "outputs": [],
   "source": [
    "output = sets(cards)\n",
    "print(output)"
   ]
  }
 ],
 "metadata": {
  "kernelspec": {
   "display_name": "aocenv",
   "language": "python",
   "name": "python3"
  },
  "language_info": {
   "codemirror_mode": {
    "name": "ipython",
    "version": 3
   },
   "file_extension": ".py",
   "mimetype": "text/x-python",
   "name": "python",
   "nbconvert_exporter": "python",
   "pygments_lexer": "ipython3",
   "version": "3.11.2"
  }
 },
 "nbformat": 4,
 "nbformat_minor": 2
}
